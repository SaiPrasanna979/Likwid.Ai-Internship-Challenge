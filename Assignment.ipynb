{
 "cells": [
  {
   "cell_type": "code",
   "execution_count": null,
   "id": "0e3a5b45-c4a4-4313-a3c4-1cec10f76fdd",
   "metadata": {},
   "outputs": [],
   "source": []
  },
  {
   "cell_type": "code",
   "execution_count": 2,
   "id": "650ba9c1-d5e6-4af4-8823-da0635f789ce",
   "metadata": {},
   "outputs": [],
   "source": [
    "import warnings"
   ]
  },
  {
   "cell_type": "code",
   "execution_count": 3,
   "id": "33cd7273-1201-468a-af08-dd54cad38895",
   "metadata": {},
   "outputs": [],
   "source": [
    "warnings.filterwarnings('ignore')"
   ]
  },
  {
   "cell_type": "code",
   "execution_count": 5,
   "id": "0254cc26-cb37-48db-a586-122d17bfebd0",
   "metadata": {},
   "outputs": [],
   "source": [
    "import pandas as pd\n",
    "import numpy as np"
   ]
  },
  {
   "cell_type": "code",
   "execution_count": 8,
   "id": "cfe7a010-708c-40cb-8ad7-a5206940a0f7",
   "metadata": {},
   "outputs": [],
   "source": [
    "#1\n",
    "file_path=r'C:\\Users\\barad\\OneDrive - Indian School of Business\\Bhavatarini\\downloads\\sample_customers_50.xlsx'\n",
    "df=pd.read_excel(file_path)"
   ]
  },
  {
   "cell_type": "code",
   "execution_count": 9,
   "id": "e27c89be-6389-4589-b1c6-0eafdc5f9da2",
   "metadata": {},
   "outputs": [
    {
     "data": {
      "text/plain": [
       "(50, 6)"
      ]
     },
     "execution_count": 9,
     "metadata": {},
     "output_type": "execute_result"
    }
   ],
   "source": [
    "df.shape"
   ]
  },
  {
   "cell_type": "code",
   "execution_count": 10,
   "id": "159bb5cc-f436-44a4-9a01-23223baf61a2",
   "metadata": {},
   "outputs": [
    {
     "data": {
      "text/html": [
       "<div>\n",
       "<style scoped>\n",
       "    .dataframe tbody tr th:only-of-type {\n",
       "        vertical-align: middle;\n",
       "    }\n",
       "\n",
       "    .dataframe tbody tr th {\n",
       "        vertical-align: top;\n",
       "    }\n",
       "\n",
       "    .dataframe thead th {\n",
       "        text-align: right;\n",
       "    }\n",
       "</style>\n",
       "<table border=\"1\" class=\"dataframe\">\n",
       "  <thead>\n",
       "    <tr style=\"text-align: right;\">\n",
       "      <th></th>\n",
       "      <th>Name</th>\n",
       "      <th>Email</th>\n",
       "      <th>Address</th>\n",
       "      <th>Sales Volume</th>\n",
       "      <th>Most Purchased Product</th>\n",
       "      <th>Geography</th>\n",
       "    </tr>\n",
       "  </thead>\n",
       "  <tbody>\n",
       "    <tr>\n",
       "      <th>0</th>\n",
       "      <td>Skyler Smith</td>\n",
       "      <td>skyler.smith@example.com</td>\n",
       "      <td>278 Oak Street, Washington</td>\n",
       "      <td>34575</td>\n",
       "      <td>Granola Bars</td>\n",
       "      <td>Georgia</td>\n",
       "    </tr>\n",
       "    <tr>\n",
       "      <th>1</th>\n",
       "      <td>Taylor Johnson</td>\n",
       "      <td>taylor.johnson@example.com</td>\n",
       "      <td>551 Pine Street, Arizona</td>\n",
       "      <td>48826</td>\n",
       "      <td>Protein Cookies</td>\n",
       "      <td>Arizona</td>\n",
       "    </tr>\n",
       "  </tbody>\n",
       "</table>\n",
       "</div>"
      ],
      "text/plain": [
       "             Name                       Email                     Address  \\\n",
       "0    Skyler Smith    skyler.smith@example.com  278 Oak Street, Washington   \n",
       "1  Taylor Johnson  taylor.johnson@example.com    551 Pine Street, Arizona   \n",
       "\n",
       "   Sales Volume Most Purchased Product Geography  \n",
       "0         34575           Granola Bars   Georgia  \n",
       "1         48826        Protein Cookies   Arizona  "
      ]
     },
     "execution_count": 10,
     "metadata": {},
     "output_type": "execute_result"
    }
   ],
   "source": [
    "df.head(2)"
   ]
  },
  {
   "cell_type": "code",
   "execution_count": 19,
   "id": "1af61bc3-23d6-4e28-a949-aadf5a69a3da",
   "metadata": {},
   "outputs": [],
   "source": [
    "customer = \\\n",
    "    {\n",
    "        \"Name\": \"Peyton Brooks\",\n",
    "        \"Email\": \"peyton.brooks@example.com\",\n",
    "        \"Address\": \"777 Willow Drive, Nevada\",\n",
    "        \"Sales Volume\": 82000,\n",
    "        \"Most Purchased Product\": \"Energy Bars\",\n",
    "        \"Geography\": \"Nevada\"\n",
    "    }"
   ]
  },
  {
   "cell_type": "code",
   "execution_count": 61,
   "id": "195e0b11-0892-4b47-b4dd-bb2fe3d3fa9b",
   "metadata": {},
   "outputs": [],
   "source": [
    "def func(customer,df):\n",
    "    if customer['Email'] in df.Email.unique():\n",
    "        n=df[df.Email==customer['Email']].index[0]\n",
    "        df.loc[n]=list(customer.values())     \n",
    "    else:\n",
    "        df.loc[len(df)]=list(customer.values())\n",
    "    return df"
   ]
  },
  {
   "cell_type": "code",
   "execution_count": 63,
   "id": "a7e0f6fc-efc5-4ab4-96c3-cf181cd97149",
   "metadata": {},
   "outputs": [],
   "source": [
    "d_f=func(customer,df)"
   ]
  },
  {
   "cell_type": "code",
   "execution_count": null,
   "id": "fc11d72b-13e6-422d-8acc-f8f1a4c90960",
   "metadata": {},
   "outputs": [],
   "source": [
    "#2"
   ]
  },
  {
   "cell_type": "code",
   "execution_count": 73,
   "id": "d926a702-9fb0-4091-93f2-00ddf3ee6a6e",
   "metadata": {},
   "outputs": [
    {
     "data": {
      "text/plain": [
       "Geography\n",
       "California    8\n",
       "Florida       7\n",
       "Nevada        7\n",
       "Illinois      6\n",
       "Texas         6\n",
       "Arizona       5\n",
       "Washington    5\n",
       "Ohio          3\n",
       "Georgia       2\n",
       "New York      2\n",
       "Name: Name, dtype: int64"
      ]
     },
     "execution_count": 73,
     "metadata": {},
     "output_type": "execute_result"
    }
   ],
   "source": [
    "df.groupby('Geography')['Name'].count().sort_values(ascending=False)[:10]"
   ]
  },
  {
   "cell_type": "code",
   "execution_count": 111,
   "id": "13838eec-fc33-47d5-ad2a-d9b608d7ae67",
   "metadata": {},
   "outputs": [
    {
     "data": {
      "text/html": [
       "<div>\n",
       "<style scoped>\n",
       "    .dataframe tbody tr th:only-of-type {\n",
       "        vertical-align: middle;\n",
       "    }\n",
       "\n",
       "    .dataframe tbody tr th {\n",
       "        vertical-align: top;\n",
       "    }\n",
       "\n",
       "    .dataframe thead th {\n",
       "        text-align: right;\n",
       "    }\n",
       "</style>\n",
       "<table border=\"1\" class=\"dataframe\">\n",
       "  <thead>\n",
       "    <tr style=\"text-align: right;\">\n",
       "      <th></th>\n",
       "      <th>Name</th>\n",
       "      <th>Geography</th>\n",
       "    </tr>\n",
       "  </thead>\n",
       "  <tbody>\n",
       "    <tr>\n",
       "      <th>7</th>\n",
       "      <td>Skyler Taylor</td>\n",
       "      <td>California</td>\n",
       "    </tr>\n",
       "    <tr>\n",
       "      <th>18</th>\n",
       "      <td>Dana Wilson</td>\n",
       "      <td>California</td>\n",
       "    </tr>\n",
       "    <tr>\n",
       "      <th>19</th>\n",
       "      <td>Dana Wilson</td>\n",
       "      <td>California</td>\n",
       "    </tr>\n",
       "    <tr>\n",
       "      <th>26</th>\n",
       "      <td>Dana Davis</td>\n",
       "      <td>California</td>\n",
       "    </tr>\n",
       "    <tr>\n",
       "      <th>27</th>\n",
       "      <td>Skyler Wilson</td>\n",
       "      <td>California</td>\n",
       "    </tr>\n",
       "    <tr>\n",
       "      <th>29</th>\n",
       "      <td>Robin Taylor</td>\n",
       "      <td>California</td>\n",
       "    </tr>\n",
       "    <tr>\n",
       "      <th>37</th>\n",
       "      <td>Casey Wilson</td>\n",
       "      <td>California</td>\n",
       "    </tr>\n",
       "    <tr>\n",
       "      <th>46</th>\n",
       "      <td>Dana Miller</td>\n",
       "      <td>California</td>\n",
       "    </tr>\n",
       "    <tr>\n",
       "      <th>8</th>\n",
       "      <td>Casey Smith</td>\n",
       "      <td>Florida</td>\n",
       "    </tr>\n",
       "    <tr>\n",
       "      <th>20</th>\n",
       "      <td>Jordan Miller</td>\n",
       "      <td>Florida</td>\n",
       "    </tr>\n",
       "  </tbody>\n",
       "</table>\n",
       "</div>"
      ],
      "text/plain": [
       "             Name   Geography\n",
       "7   Skyler Taylor  California\n",
       "18    Dana Wilson  California\n",
       "19    Dana Wilson  California\n",
       "26     Dana Davis  California\n",
       "27  Skyler Wilson  California\n",
       "29   Robin Taylor  California\n",
       "37   Casey Wilson  California\n",
       "46    Dana Miller  California\n",
       "8     Casey Smith     Florida\n",
       "20  Jordan Miller     Florida"
      ]
     },
     "execution_count": 111,
     "metadata": {},
     "output_type": "execute_result"
    }
   ],
   "source": [
    "california_df = df[df['Geography'] == 'California']\n",
    "florida_df = df[df['Geography'] == 'Florida']\n",
    "filtered_df = pd.concat([california_df, florida_df])\n",
    "filtered_df[['Name','Geography']][:10]"
   ]
  },
  {
   "cell_type": "code",
   "execution_count": 88,
   "id": "b258bbac-e42f-4e01-88cb-f09cebadef6f",
   "metadata": {},
   "outputs": [
    {
     "data": {
      "text/html": [
       "<div>\n",
       "<style scoped>\n",
       "    .dataframe tbody tr th:only-of-type {\n",
       "        vertical-align: middle;\n",
       "    }\n",
       "\n",
       "    .dataframe tbody tr th {\n",
       "        vertical-align: top;\n",
       "    }\n",
       "\n",
       "    .dataframe thead th {\n",
       "        text-align: right;\n",
       "    }\n",
       "</style>\n",
       "<table border=\"1\" class=\"dataframe\">\n",
       "  <thead>\n",
       "    <tr style=\"text-align: right;\">\n",
       "      <th></th>\n",
       "      <th>Name</th>\n",
       "      <th>Sales Volume</th>\n",
       "    </tr>\n",
       "  </thead>\n",
       "  <tbody>\n",
       "    <tr>\n",
       "      <th>29</th>\n",
       "      <td>Robin Taylor</td>\n",
       "      <td>98602</td>\n",
       "    </tr>\n",
       "    <tr>\n",
       "      <th>41</th>\n",
       "      <td>Robin Miller</td>\n",
       "      <td>98062</td>\n",
       "    </tr>\n",
       "    <tr>\n",
       "      <th>4</th>\n",
       "      <td>Robin Lee</td>\n",
       "      <td>96674</td>\n",
       "    </tr>\n",
       "    <tr>\n",
       "      <th>40</th>\n",
       "      <td>Chris Wilson</td>\n",
       "      <td>91206</td>\n",
       "    </tr>\n",
       "    <tr>\n",
       "      <th>0</th>\n",
       "      <td>Peyton Brooks</td>\n",
       "      <td>88989</td>\n",
       "    </tr>\n",
       "    <tr>\n",
       "      <th>9</th>\n",
       "      <td>Jordan Miller</td>\n",
       "      <td>87853</td>\n",
       "    </tr>\n",
       "    <tr>\n",
       "      <th>19</th>\n",
       "      <td>Dana Wilson</td>\n",
       "      <td>87328</td>\n",
       "    </tr>\n",
       "    <tr>\n",
       "      <th>43</th>\n",
       "      <td>Jamie Taylor</td>\n",
       "      <td>86434</td>\n",
       "    </tr>\n",
       "    <tr>\n",
       "      <th>32</th>\n",
       "      <td>Skyler Brown</td>\n",
       "      <td>85581</td>\n",
       "    </tr>\n",
       "    <tr>\n",
       "      <th>33</th>\n",
       "      <td>Skyler Moore</td>\n",
       "      <td>84411</td>\n",
       "    </tr>\n",
       "  </tbody>\n",
       "</table>\n",
       "</div>"
      ],
      "text/plain": [
       "             Name  Sales Volume\n",
       "29   Robin Taylor         98602\n",
       "41   Robin Miller         98062\n",
       "4       Robin Lee         96674\n",
       "40   Chris Wilson         91206\n",
       "0   Peyton Brooks         88989\n",
       "9   Jordan Miller         87853\n",
       "19    Dana Wilson         87328\n",
       "43   Jamie Taylor         86434\n",
       "32   Skyler Brown         85581\n",
       "33   Skyler Moore         84411"
      ]
     },
     "execution_count": 88,
     "metadata": {},
     "output_type": "execute_result"
    }
   ],
   "source": [
    "df.sort_values('Sales Volume',ascending=False)[['Name','Sales Volume']][:10]"
   ]
  },
  {
   "cell_type": "code",
   "execution_count": 94,
   "id": "ec147f6f-fd0c-414c-9ed2-da9a89a68e2a",
   "metadata": {},
   "outputs": [
    {
     "data": {
      "text/plain": [
       "Most Purchased Product\n",
       "Energy Bars        11\n",
       "Granola Bars        9\n",
       "Smoothie Packs      8\n",
       "Protein Cookies     6\n",
       "Fruit Snacks        5\n",
       "Nut Butters         5\n",
       "Organic Chips       4\n",
       "Trail Mix           3\n",
       "Name: Name, dtype: int64"
      ]
     },
     "execution_count": 94,
     "metadata": {},
     "output_type": "execute_result"
    }
   ],
   "source": [
    "df.groupby(['Most Purchased Product'])['Name'].count().sort_values(ascending=False)"
   ]
  },
  {
   "cell_type": "code",
   "execution_count": 112,
   "id": "6261bffb-1d80-450c-adbb-ed7e599cf410",
   "metadata": {},
   "outputs": [
    {
     "data": {
      "text/html": [
       "<div>\n",
       "<style scoped>\n",
       "    .dataframe tbody tr th:only-of-type {\n",
       "        vertical-align: middle;\n",
       "    }\n",
       "\n",
       "    .dataframe tbody tr th {\n",
       "        vertical-align: top;\n",
       "    }\n",
       "\n",
       "    .dataframe thead th {\n",
       "        text-align: right;\n",
       "    }\n",
       "</style>\n",
       "<table border=\"1\" class=\"dataframe\">\n",
       "  <thead>\n",
       "    <tr style=\"text-align: right;\">\n",
       "      <th></th>\n",
       "      <th>Name</th>\n",
       "      <th>Most Purchased Product</th>\n",
       "    </tr>\n",
       "  </thead>\n",
       "  <tbody>\n",
       "    <tr>\n",
       "      <th>0</th>\n",
       "      <td>Peyton Brooks</td>\n",
       "      <td>Energy Bars</td>\n",
       "    </tr>\n",
       "    <tr>\n",
       "      <th>7</th>\n",
       "      <td>Skyler Taylor</td>\n",
       "      <td>Energy Bars</td>\n",
       "    </tr>\n",
       "    <tr>\n",
       "      <th>8</th>\n",
       "      <td>Casey Smith</td>\n",
       "      <td>Energy Bars</td>\n",
       "    </tr>\n",
       "    <tr>\n",
       "      <th>17</th>\n",
       "      <td>Alex Miller</td>\n",
       "      <td>Energy Bars</td>\n",
       "    </tr>\n",
       "    <tr>\n",
       "      <th>19</th>\n",
       "      <td>Dana Wilson</td>\n",
       "      <td>Energy Bars</td>\n",
       "    </tr>\n",
       "    <tr>\n",
       "      <th>22</th>\n",
       "      <td>Casey Anderson</td>\n",
       "      <td>Energy Bars</td>\n",
       "    </tr>\n",
       "    <tr>\n",
       "      <th>31</th>\n",
       "      <td>Jamie Brown</td>\n",
       "      <td>Energy Bars</td>\n",
       "    </tr>\n",
       "    <tr>\n",
       "      <th>38</th>\n",
       "      <td>Dana Johnson</td>\n",
       "      <td>Energy Bars</td>\n",
       "    </tr>\n",
       "    <tr>\n",
       "      <th>42</th>\n",
       "      <td>Alex Taylor</td>\n",
       "      <td>Energy Bars</td>\n",
       "    </tr>\n",
       "    <tr>\n",
       "      <th>48</th>\n",
       "      <td>Alex Anderson</td>\n",
       "      <td>Energy Bars</td>\n",
       "    </tr>\n",
       "  </tbody>\n",
       "</table>\n",
       "</div>"
      ],
      "text/plain": [
       "              Name Most Purchased Product\n",
       "0    Peyton Brooks            Energy Bars\n",
       "7    Skyler Taylor            Energy Bars\n",
       "8      Casey Smith            Energy Bars\n",
       "17     Alex Miller            Energy Bars\n",
       "19     Dana Wilson            Energy Bars\n",
       "22  Casey Anderson            Energy Bars\n",
       "31     Jamie Brown            Energy Bars\n",
       "38    Dana Johnson            Energy Bars\n",
       "42     Alex Taylor            Energy Bars\n",
       "48   Alex Anderson            Energy Bars"
      ]
     },
     "execution_count": 112,
     "metadata": {},
     "output_type": "execute_result"
    }
   ],
   "source": [
    "df[df['Most Purchased Product']=='Energy Bars'][['Name','Most Purchased Product']][:10]"
   ]
  },
  {
   "cell_type": "code",
   "execution_count": null,
   "id": "4017b632-857e-46cd-9d45-3f470c7550ff",
   "metadata": {},
   "outputs": [],
   "source": []
  }
 ],
 "metadata": {
  "kernelspec": {
   "display_name": "Python 3 (ipykernel)",
   "language": "python",
   "name": "python3"
  },
  "language_info": {
   "codemirror_mode": {
    "name": "ipython",
    "version": 3
   },
   "file_extension": ".py",
   "mimetype": "text/x-python",
   "name": "python",
   "nbconvert_exporter": "python",
   "pygments_lexer": "ipython3",
   "version": "3.12.7"
  }
 },
 "nbformat": 4,
 "nbformat_minor": 5
}
